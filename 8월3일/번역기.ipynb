{
 "cells": [
  {
   "cell_type": "code",
   "execution_count": 13,
   "metadata": {},
   "outputs": [
    {
     "name": "stdout",
     "output_type": "stream",
     "text": [
      "Note: you may need to restart the kernel to use updated packages.\n"
     ]
    },
    {
     "name": "stderr",
     "output_type": "stream",
     "text": [
      "ERROR: Could not find a version that satisfies the requirement json (from versions: none)\n",
      "ERROR: No matching distribution found for json\n",
      "\n",
      "[notice] A new release of pip is available: 23.1.2 -> 23.2.1\n",
      "[notice] To update, run: python.exe -m pip install --upgrade pip\n"
     ]
    },
    {
     "name": "stdout",
     "output_type": "stream",
     "text": [
      "Note: you may need to restart the kernel to use updated packages.\n"
     ]
    },
    {
     "name": "stderr",
     "output_type": "stream",
     "text": [
      "ERROR: Could not find a version that satisfies the requirement requsests (from versions: none)\n",
      "ERROR: No matching distribution found for requsests\n",
      "\n",
      "[notice] A new release of pip is available: 23.1.2 -> 23.2.1\n",
      "[notice] To update, run: python.exe -m pip install --upgrade pip\n"
     ]
    }
   ],
   "source": [
    "%pip install json\n",
    "%pip install requsests"
   ]
  },
  {
   "cell_type": "code",
   "execution_count": 12,
   "metadata": {},
   "outputs": [
    {
     "ename": "KeyError",
     "evalue": "'message'",
     "output_type": "error",
     "traceback": [
      "\u001b[1;31m---------------------------------------------------------------------------\u001b[0m",
      "\u001b[1;31mKeyError\u001b[0m                                  Traceback (most recent call last)",
      "Cell \u001b[1;32mIn[12], line 22\u001b[0m\n\u001b[0;32m     20\u001b[0m \u001b[39m# 번역할 문장 입력 후 함수에 전달\u001b[39;00m\n\u001b[0;32m     21\u001b[0m text \u001b[39m=\u001b[39m \u001b[39m'\u001b[39m\u001b[39m파파고 API 실습이 재미있네요.\u001b[39m\u001b[39m'\u001b[39m\n\u001b[1;32m---> 22\u001b[0m en_text \u001b[39m=\u001b[39m translate(text)\n\u001b[0;32m     23\u001b[0m \u001b[39mprint\u001b[39m(en_text)\n",
      "Cell \u001b[1;32mIn[12], line 17\u001b[0m, in \u001b[0;36mtranslate\u001b[1;34m(text, source, target)\u001b[0m\n\u001b[0;32m     15\u001b[0m data \u001b[39m=\u001b[39m {\u001b[39m'\u001b[39m\u001b[39msource\u001b[39m\u001b[39m'\u001b[39m: \u001b[39m'\u001b[39m\u001b[39mko\u001b[39m\u001b[39m'\u001b[39m, \u001b[39m'\u001b[39m\u001b[39mtarget\u001b[39m\u001b[39m'\u001b[39m: \u001b[39m'\u001b[39m\u001b[39men\u001b[39m\u001b[39m'\u001b[39m, \u001b[39m'\u001b[39m\u001b[39mtext\u001b[39m\u001b[39m'\u001b[39m: text}\n\u001b[0;32m     16\u001b[0m response \u001b[39m=\u001b[39m requests\u001b[39m.\u001b[39mpost(url, json\u001b[39m.\u001b[39mdumps(data), headers\u001b[39m=\u001b[39mheaders)\n\u001b[1;32m---> 17\u001b[0m \u001b[39mreturn\u001b[39;00m response\u001b[39m.\u001b[39;49mjson()[\u001b[39m'\u001b[39;49m\u001b[39mmessage\u001b[39;49m\u001b[39m'\u001b[39;49m][\u001b[39m'\u001b[39m\u001b[39mresult\u001b[39m\u001b[39m'\u001b[39m][\u001b[39m'\u001b[39m\u001b[39mtranslatedText\u001b[39m\u001b[39m'\u001b[39m]\n",
      "\u001b[1;31mKeyError\u001b[0m: 'message'"
     ]
    }
   ],
   "source": [
    "import requests\n",
    "import json\n",
    "a = input()\n",
    "\n",
    "def translate(text, source='ko', target='en'):\n",
    "    CLIENT_ID, CLIENT_SECRET = '(MY Client ID)', '(MY Client Secret)'\n",
    "    url = 'https://openapi.naver.com/v1/papago/n2mt'\n",
    "    headers = {\n",
    "        'Content-Type': 'application/json',\n",
    "        'X-Naver-Client-Id': CLIENT_ID,\n",
    "        'X-Naver-Client-Secret': CLIENT_SECRET\n",
    "    }\n",
    "    data = {'source': 'ko', 'target': 'en', 'text': text}\n",
    "    response = requests.post(url, json.dumps(data), headers=headers)\n",
    "    return response.json()['message']['result']['translatedText']\n",
    " \n",
    " \n",
    "\n",
    "text = 'a'\n",
    "en_text = translate(text)\n",
    "print(en_text)\n",
    " "
   ]
  },
  {
   "cell_type": "code",
   "execution_count": 27,
   "metadata": {},
   "outputs": [
    {
     "name": "stdout",
     "output_type": "stream",
     "text": [
      "%EC%9C%A4%EC%95%84%EB%A1%9C\n"
     ]
    }
   ],
   "source": [
    "import os\n",
    "import sys\n",
    "import urllib.request\n",
    "a=input()\n",
    "client_id = \"2VtQ6SXcjmXNOWW8OfCw\" \n",
    "client_secret = \"6ojucLZI4v\" \n",
    "encText = urllib.parse.quote(a)\n",
    "print(encText)\n",
    "# data = \"source=ko&target=en&text=\" + encText\n",
    "# url = \"https://openapi.naver.com/v1/papago/n2mt\"\n",
    "# request = urllib.request.Request(url)\n",
    "# request.add_header(\"X-Naver-Client-Id\",client_id)\n",
    "# request.add_header(\"X-Naver-Client-Secret\",client_secret)\n",
    "# response = urllib.request.urlopen(request, data=data.encode(\"utf-8\"))\n",
    "# rescode = response.getcode()\n",
    "# if(rescode==200):\n",
    "#     response_body = response.read()\n",
    "#     print(response_body.decode('utf-8'))\n",
    "\n",
    "# else:\n",
    "#     print(\"Error Code:\" + rescode)"
   ]
  },
  {
   "cell_type": "code",
   "execution_count": 38,
   "metadata": {},
   "outputs": [],
   "source": [
    "# curl \"https://openapi.naver.com/v1/papago/n2mt\" \\\n",
    "#     -H \"Content-Type: application/x-www-form-urlencoded; charset=UTF-8\" \\\n",
    "#     -H \"X-Naver-Client-Id: {애플리케이션 등록 시 발급받은 클라이언트 아이디 값}\" \\\n",
    "#     -H \"X-Naver-Client-Secret: {애플리케이션 등록 시 발급받은 클라이언트 시크릿 값}\" \\\n",
    "#     -d \"source=ko&target=en&text=만나서 반갑습니다.\" -v\n",
    "\n",
    "import requests\n"
   ]
  },
  {
   "cell_type": "code",
   "execution_count": 5,
   "metadata": {},
   "outputs": [],
   "source": [
    "def trans_ko_to_en(text):\n",
    "    URL = \"https://openapi.naver.com/v1/papago/n2mt\"\n",
    "    headers = {\n",
    "        \"Content-Type\": \"application/x-www-form-urlencoded; charset=UTF-8\", \n",
    "        \"X-Naver-Client-Id\": client_id,\n",
    "        \"X-Naver-Client-Secret\": client_secret, \n",
    "    }\n",
    "    data = {\n",
    "        \"source\":\"ko\",\n",
    "        \"target\":\"en\",\n",
    "        \"text\":text\n",
    "    }\n",
    "    resp = requests.post(URL, data=data, headers=headers)\n",
    "    data = resp.json()\n",
    "    return (data[\"message\"][\"result\"][\"translatedText\"])\n",
    "\n",
    "    data = resp.json()\n",
    "    print(data[\"message\"][\"result\"][\"translatedText\"])"
   ]
  },
  {
   "cell_type": "code",
   "execution_count": 12,
   "metadata": {},
   "outputs": [
    {
     "ename": "NameError",
     "evalue": "name 'resp' is not defined",
     "output_type": "error",
     "traceback": [
      "\u001b[1;31m---------------------------------------------------------------------------\u001b[0m",
      "\u001b[1;31mNameError\u001b[0m                                 Traceback (most recent call last)",
      "Cell \u001b[1;32mIn[12], line 1\u001b[0m\n\u001b[1;32m----> 1\u001b[0m data \u001b[38;5;241m=\u001b[39m \u001b[43mresp\u001b[49m\u001b[38;5;241m.\u001b[39mjson()\n\u001b[0;32m      2\u001b[0m \u001b[38;5;28mprint\u001b[39m(data[\u001b[38;5;124m\"\u001b[39m\u001b[38;5;124mmessage\u001b[39m\u001b[38;5;124m\"\u001b[39m][\u001b[38;5;124m\"\u001b[39m\u001b[38;5;124mresult\u001b[39m\u001b[38;5;124m\"\u001b[39m][\u001b[38;5;124m\"\u001b[39m\u001b[38;5;124mtranslatedText\u001b[39m\u001b[38;5;124m\"\u001b[39m])\n",
      "\u001b[1;31mNameError\u001b[0m: name 'resp' is not defined"
     ]
    }
   ],
   "source": [
    "data = resp.json()\n",
    "print(data[\"message\"][\"result\"][\"translatedText\"])\n"
   ]
  },
  {
   "cell_type": "code",
   "execution_count": 44,
   "metadata": {},
   "outputs": [
    {
     "data": {
      "text/plain": [
       "'Hello. Nice to meet you.'"
      ]
     },
     "execution_count": 44,
     "metadata": {},
     "output_type": "execute_result"
    }
   ],
   "source": []
  },
  {
   "cell_type": "code",
   "execution_count": 47,
   "metadata": {},
   "outputs": [
    {
     "data": {
      "text/plain": [
       "'Hello, Bagu'"
      ]
     },
     "execution_count": 47,
     "metadata": {},
     "output_type": "execute_result"
    }
   ],
   "source": [
    "user_input = input()\n",
    "trans_ko_to_en(user_input)\n"
   ]
  },
  {
   "cell_type": "code",
   "execution_count": null,
   "metadata": {},
   "outputs": [],
   "source": []
  }
 ],
 "metadata": {
  "interpreter": {
   "hash": "2393aa323a4b06ef561f7f662e7fa0d1bea053af822f4f9f1979756cf002d5e3"
  },
  "kernelspec": {
   "display_name": "Python 3.9.6 64-bit ('.venv': venv)",
   "name": "python3"
  },
  "language_info": {
   "codemirror_mode": {
    "name": "ipython",
    "version": 3
   },
   "file_extension": ".py",
   "mimetype": "text/x-python",
   "name": "python",
   "nbconvert_exporter": "python",
   "pygments_lexer": "ipython3",
   "version": "3.9.6"
  },
  "orig_nbformat": 4
 },
 "nbformat": 4,
 "nbformat_minor": 2
}
